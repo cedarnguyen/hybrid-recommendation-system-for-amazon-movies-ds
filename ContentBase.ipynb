{
 "cells": [
  {
   "cell_type": "code",
   "execution_count": 1,
   "id": "5d9c218e-5947-4508-9e33-18cdd4edf032",
   "metadata": {},
   "outputs": [
    {
     "name": "stdout",
     "output_type": "stream",
     "text": [
      "         asin                                              title  #508510  \\\n",
      "0  0000143561  Everyday Italian (with Giada de Laurentiis), V...        0   \n",
      "1  0000589012  Why Don't They Just Quit? DVD Roundtable Discu...        0   \n",
      "2  0000695009            Understanding Seizures and Epilepsy DVD        0   \n",
      "3  000107461X                              Live in Houston [VHS]        0   \n",
      "4  0000143529                  My Fair Pastry (Good Eats Vol. 9)        0   \n",
      "\n",
      "   Accessories  Accessories & Supplies  Accordions  Acid Jazz  Acoustic Blues  \\\n",
      "0            0                       0           0          0               0   \n",
      "1            0                       0           0          0               0   \n",
      "2            0                       0           0          0               0   \n",
      "3            0                       0           0          0               0   \n",
      "4            0                       0           0          0               0   \n",
      "\n",
      "   Acoustic Guitars  Acoustic-Electric Guitars  ...  Yarn Storage  Yoga  \\\n",
      "0                 0                          0  ...             0     0   \n",
      "1                 0                          0  ...             0     0   \n",
      "2                 0                          0  ...             0     0   \n",
      "3                 0                          0  ...             0     0   \n",
      "4                 0                          0  ...             0     0   \n",
      "\n",
      "   Zimbabwe  num_related_also_viewed  num_related_also_bought  \\\n",
      "0         0                        6                        0   \n",
      "1         0                        0                      100   \n",
      "2         0                        0                        0   \n",
      "3         0                        0                        0   \n",
      "4         0                        0                       13   \n",
      "\n",
      "   num_related_bought_together  num_related_buy_after_viewing  \\\n",
      "0                            0                              4   \n",
      "1                            0                              4   \n",
      "2                            0                              0   \n",
      "3                            0                              0   \n",
      "4                            0                              4   \n",
      "\n",
      "   total_num_related  normalized_price  normalized_salesRank  \n",
      "0                 10          0.016225              0.030315  \n",
      "1                104          0.019925              0.087459  \n",
      "2                  0          0.021813              0.082451  \n",
      "3                  0          0.021813              0.076919  \n",
      "4                 17          0.024976              0.037371  \n",
      "\n",
      "[5 rows x 795 columns]\n"
     ]
    }
   ],
   "source": [
    "import pandas as pd\n",
    "\n",
    "df1 = pd.read_csv('pretrained_meta_data.csv')\n",
    "\n",
    "print(df1.head())"
   ]
  },
  {
   "cell_type": "code",
   "execution_count": 3,
   "id": "dd5e853e-ef1b-42f3-9ab5-366e27e35936",
   "metadata": {},
   "outputs": [],
   "source": [
    "data =df1"
   ]
  },
  {
   "cell_type": "code",
   "execution_count": 4,
   "id": "65f0fd36-b7db-4a3a-ab88-647d66250ed0",
   "metadata": {},
   "outputs": [
    {
     "name": "stdout",
     "output_type": "stream",
     "text": [
      "Silhouette Score: 0.7404417096683285\n"
     ]
    }
   ],
   "source": [
    "from sklearn.model_selection import train_test_split\n",
    "from sklearn.cluster import KMeans\n",
    "from sklearn.metrics import silhouette_score\n",
    "\n",
    "\n",
    "# Select features for clustering (exclude 'asin' and 'title' columns)\n",
    "X = data.drop(['asin', 'title'], axis=1)\n",
    "\n",
    "# Split the data into train and test sets \n",
    "X_train, X_test = train_test_split(X, test_size=0.2, random_state=42)\n",
    "\n",
    "# Fit KMeans model to the training data\n",
    "kmeans = KMeans(n_clusters=3, random_state=42)\n",
    "kmeans.fit(X_train)\n",
    "\n",
    "# Predict clusters for the test data\n",
    "test_clusters = kmeans.predict(X_test)\n",
    "\n",
    "# Compute silhouette score\n",
    "silhouette_avg = silhouette_score(X_test, test_clusters)\n",
    "print(\"Silhouette Score:\", silhouette_avg)\n"
   ]
  },
  {
   "cell_type": "code",
   "execution_count": null,
   "id": "c73c21c0-5ec4-48ea-b489-0a5053aa85bd",
   "metadata": {},
   "outputs": [],
   "source": [
    "title_mapping = dict(zip(df['asin'], df['title']))\n"
   ]
  },
  {
   "cell_type": "code",
   "execution_count": 5,
   "id": "27d41ce8-cb16-4aa8-844b-818aee6d2cf9",
   "metadata": {},
   "outputs": [
    {
     "name": "stdout",
     "output_type": "stream",
     "text": [
      "Simulated User's Item: Wisdom of the East: Transformations of Myth Through Time (Volume II, Tape II, Programs 8-9) (From Id to the Ego in the Orient: Kundalini Yoga Part 1) (The World of Joseph Campbell) VHS Tape\n",
      "Recommended Similar Items: Everyday Italian (with Giada de Laurentiis), Volume 1 (3 Pack): Italian Classics, Parties, Holidays\n",
      "Why Don't They Just Quit? DVD Roundtable Discussion: What Families and Friends need to Know About Addiction and Recovery\n",
      "Understanding Seizures and Epilepsy DVD\n",
      "Live in Houston [VHS]\n",
      "Rise and Swine (Good Eats Vol. 7)\n",
      "Barefoot Contessa (with Ina Garten), Entertaining With Ina Vol. 2 (3 Pack): Brunch 'n' Lunch, Picnic Parties, Summer Entertaining\n",
      "Peace Child [VHS]\n",
      "Worship with Don Moen [VHS]\n",
      "The Life of Sister Faustina: The Apostle of Divine Mercy [VHS]\n",
      "Witnesses of Jehovah [VHS]\n"
     ]
    }
   ],
   "source": [
    "import random\n",
    "\n",
    "# Function to recommend similar items based on a user's interaction with one item\n",
    "def recommend_similar_items(user_item_index, kmeans_model, data, X_test):\n",
    "    # Select the user's item\n",
    "    user_item = X_test.iloc[[user_item_index]]\n",
    "    \n",
    "    # Predict cluster for the user's item\n",
    "    user_item_cluster = kmeans_model.predict(user_item)[0]\n",
    "\n",
    "    # Generate boolean index based on the predicted cluster\n",
    "    boolean_index = kmeans_model.labels_ == user_item_cluster\n",
    "    \n",
    "    # Ensure boolean index has the same length as X_test\n",
    "    boolean_index = boolean_index[:len(X_test)]\n",
    "    \n",
    "    # Find similar items in the same cluster\n",
    "    similar_items_indices = X_test[boolean_index].index.tolist()\n",
    "\n",
    "    # Recommend similar items to the user\n",
    "    similar_items = data.loc[similar_items_indices, 'title'].tolist()\n",
    "\n",
    "    # Return only the first 10 recommended items\n",
    "    return '\\n'.join(similar_items[:10])\n",
    "\n",
    "# Reset index of X_test\n",
    "X_test.reset_index(drop=True, inplace=True)\n",
    "\n",
    "# Ensure random_item_index is within bounds\n",
    "random_item_index = random.randint(0, len(X_test) - 1)\n",
    "user_item_title = data.loc[random_item_index, 'title']\n",
    "\n",
    "# Recommend similar items to the user based on the simulated interaction\n",
    "similar_items = recommend_similar_items(random_item_index, kmeans, data, X_test)\n",
    "\n",
    "print(\"Simulated User's Item:\", user_item_title)\n",
    "print(\"Recommended Similar Items:\", similar_items)\n"
   ]
  }
 ],
 "metadata": {
  "kernelspec": {
   "display_name": "Python 3 (ipykernel)",
   "language": "python",
   "name": "python3"
  },
  "language_info": {
   "codemirror_mode": {
    "name": "ipython",
    "version": 3
   },
   "file_extension": ".py",
   "mimetype": "text/x-python",
   "name": "python",
   "nbconvert_exporter": "python",
   "pygments_lexer": "ipython3",
   "version": "3.11.5"
  }
 },
 "nbformat": 4,
 "nbformat_minor": 5
}
