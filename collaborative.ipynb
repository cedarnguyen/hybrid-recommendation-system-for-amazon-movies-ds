{
 "cells": [
  {
   "cell_type": "code",
   "execution_count": 1,
   "id": "c61c1e54",
   "metadata": {},
   "outputs": [
    {
     "name": "stdout",
     "output_type": "stream",
     "text": [
      "   reviewerID        asin  overall  helpful_votes  total_votes  \\\n",
      "0     1520337  0000143502        5              0            0   \n",
      "1     1520337  0000143529        5              0            0   \n",
      "2     1799418  0000143561        2              2            4   \n",
      "3     1434996  0000143588        5              9            9   \n",
      "4     2020251  0000143588        5              1            4   \n",
      "\n",
      "   helpfulness_ratio  asin_t  \n",
      "0               0.00       0  \n",
      "1               0.00       1  \n",
      "2               0.50       2  \n",
      "3               1.00       3  \n",
      "4               0.25       3  \n"
     ]
    }
   ],
   "source": [
    "import pandas as pd\n",
    "\n",
    "df1 = pd.read_csv('pretrained_viewer_data.csv')\n",
    "\n",
    "print(df1.head())"
   ]
  },
  {
   "cell_type": "code",
   "execution_count": 2,
   "id": "f5b68598-f088-4fde-8b83-ce408df7afdf",
   "metadata": {},
   "outputs": [
    {
     "data": {
      "text/html": [
       "<div>\n",
       "<style scoped>\n",
       "    .dataframe tbody tr th:only-of-type {\n",
       "        vertical-align: middle;\n",
       "    }\n",
       "\n",
       "    .dataframe tbody tr th {\n",
       "        vertical-align: top;\n",
       "    }\n",
       "\n",
       "    .dataframe thead th {\n",
       "        text-align: right;\n",
       "    }\n",
       "</style>\n",
       "<table border=\"1\" class=\"dataframe\">\n",
       "  <thead>\n",
       "    <tr style=\"text-align: right;\">\n",
       "      <th></th>\n",
       "      <th>reviewerID</th>\n",
       "      <th>asin</th>\n",
       "      <th>overall</th>\n",
       "      <th>helpful_votes</th>\n",
       "      <th>total_votes</th>\n",
       "      <th>helpfulness_ratio</th>\n",
       "      <th>asin_t</th>\n",
       "    </tr>\n",
       "  </thead>\n",
       "  <tbody>\n",
       "    <tr>\n",
       "      <th>0</th>\n",
       "      <td>1520337</td>\n",
       "      <td>0000143502</td>\n",
       "      <td>5</td>\n",
       "      <td>0</td>\n",
       "      <td>0</td>\n",
       "      <td>0.00</td>\n",
       "      <td>0</td>\n",
       "    </tr>\n",
       "    <tr>\n",
       "      <th>1</th>\n",
       "      <td>1520337</td>\n",
       "      <td>0000143529</td>\n",
       "      <td>5</td>\n",
       "      <td>0</td>\n",
       "      <td>0</td>\n",
       "      <td>0.00</td>\n",
       "      <td>1</td>\n",
       "    </tr>\n",
       "    <tr>\n",
       "      <th>2</th>\n",
       "      <td>1799418</td>\n",
       "      <td>0000143561</td>\n",
       "      <td>2</td>\n",
       "      <td>2</td>\n",
       "      <td>4</td>\n",
       "      <td>0.50</td>\n",
       "      <td>2</td>\n",
       "    </tr>\n",
       "    <tr>\n",
       "      <th>3</th>\n",
       "      <td>1434996</td>\n",
       "      <td>0000143588</td>\n",
       "      <td>5</td>\n",
       "      <td>9</td>\n",
       "      <td>9</td>\n",
       "      <td>1.00</td>\n",
       "      <td>3</td>\n",
       "    </tr>\n",
       "    <tr>\n",
       "      <th>4</th>\n",
       "      <td>2020251</td>\n",
       "      <td>0000143588</td>\n",
       "      <td>5</td>\n",
       "      <td>1</td>\n",
       "      <td>4</td>\n",
       "      <td>0.25</td>\n",
       "      <td>3</td>\n",
       "    </tr>\n",
       "  </tbody>\n",
       "</table>\n",
       "</div>"
      ],
      "text/plain": [
       "   reviewerID        asin  overall  helpful_votes  total_votes  \\\n",
       "0     1520337  0000143502        5              0            0   \n",
       "1     1520337  0000143529        5              0            0   \n",
       "2     1799418  0000143561        2              2            4   \n",
       "3     1434996  0000143588        5              9            9   \n",
       "4     2020251  0000143588        5              1            4   \n",
       "\n",
       "   helpfulness_ratio  asin_t  \n",
       "0               0.00       0  \n",
       "1               0.00       1  \n",
       "2               0.50       2  \n",
       "3               1.00       3  \n",
       "4               0.25       3  "
      ]
     },
     "execution_count": 2,
     "metadata": {},
     "output_type": "execute_result"
    }
   ],
   "source": [
    "df1.head()"
   ]
  },
  {
   "cell_type": "code",
   "execution_count": 3,
   "id": "3fdad419-efb0-4ccc-86c9-8768da78b15f",
   "metadata": {},
   "outputs": [],
   "source": [
    "df =df1"
   ]
  },
  {
   "cell_type": "code",
   "execution_count": 4,
   "id": "9ed9a29c",
   "metadata": {},
   "outputs": [
    {
     "data": {
      "text/html": [
       "<div>\n",
       "<style scoped>\n",
       "    .dataframe tbody tr th:only-of-type {\n",
       "        vertical-align: middle;\n",
       "    }\n",
       "\n",
       "    .dataframe tbody tr th {\n",
       "        vertical-align: top;\n",
       "    }\n",
       "\n",
       "    .dataframe thead th {\n",
       "        text-align: right;\n",
       "    }\n",
       "</style>\n",
       "<table border=\"1\" class=\"dataframe\">\n",
       "  <thead>\n",
       "    <tr style=\"text-align: right;\">\n",
       "      <th></th>\n",
       "      <th>reviewerID</th>\n",
       "      <th>asin</th>\n",
       "      <th>overall</th>\n",
       "      <th>helpful_votes</th>\n",
       "      <th>total_votes</th>\n",
       "      <th>helpfulness_ratio</th>\n",
       "      <th>asin_t</th>\n",
       "    </tr>\n",
       "  </thead>\n",
       "  <tbody>\n",
       "    <tr>\n",
       "      <th>0</th>\n",
       "      <td>1520337</td>\n",
       "      <td>0000143502</td>\n",
       "      <td>5</td>\n",
       "      <td>0</td>\n",
       "      <td>0</td>\n",
       "      <td>0.00</td>\n",
       "      <td>0</td>\n",
       "    </tr>\n",
       "    <tr>\n",
       "      <th>1</th>\n",
       "      <td>1520337</td>\n",
       "      <td>0000143529</td>\n",
       "      <td>5</td>\n",
       "      <td>0</td>\n",
       "      <td>0</td>\n",
       "      <td>0.00</td>\n",
       "      <td>1</td>\n",
       "    </tr>\n",
       "    <tr>\n",
       "      <th>2</th>\n",
       "      <td>1799418</td>\n",
       "      <td>0000143561</td>\n",
       "      <td>2</td>\n",
       "      <td>2</td>\n",
       "      <td>4</td>\n",
       "      <td>0.50</td>\n",
       "      <td>2</td>\n",
       "    </tr>\n",
       "    <tr>\n",
       "      <th>3</th>\n",
       "      <td>1434996</td>\n",
       "      <td>0000143588</td>\n",
       "      <td>5</td>\n",
       "      <td>9</td>\n",
       "      <td>9</td>\n",
       "      <td>1.00</td>\n",
       "      <td>3</td>\n",
       "    </tr>\n",
       "    <tr>\n",
       "      <th>4</th>\n",
       "      <td>2020251</td>\n",
       "      <td>0000143588</td>\n",
       "      <td>5</td>\n",
       "      <td>1</td>\n",
       "      <td>4</td>\n",
       "      <td>0.25</td>\n",
       "      <td>3</td>\n",
       "    </tr>\n",
       "  </tbody>\n",
       "</table>\n",
       "</div>"
      ],
      "text/plain": [
       "   reviewerID        asin  overall  helpful_votes  total_votes  \\\n",
       "0     1520337  0000143502        5              0            0   \n",
       "1     1520337  0000143529        5              0            0   \n",
       "2     1799418  0000143561        2              2            4   \n",
       "3     1434996  0000143588        5              9            9   \n",
       "4     2020251  0000143588        5              1            4   \n",
       "\n",
       "   helpfulness_ratio  asin_t  \n",
       "0               0.00       0  \n",
       "1               0.00       1  \n",
       "2               0.50       2  \n",
       "3               1.00       3  \n",
       "4               0.25       3  "
      ]
     },
     "execution_count": 4,
     "metadata": {},
     "output_type": "execute_result"
    }
   ],
   "source": [
    "df.head()"
   ]
  },
  {
   "cell_type": "code",
   "execution_count": 5,
   "id": "e3c82d89",
   "metadata": {},
   "outputs": [
    {
     "name": "stdout",
     "output_type": "stream",
     "text": [
      "<class 'pandas.core.frame.DataFrame'>\n",
      "RangeIndex: 4607047 entries, 0 to 4607046\n",
      "Data columns (total 7 columns):\n",
      " #   Column             Dtype  \n",
      "---  ------             -----  \n",
      " 0   reviewerID         int64  \n",
      " 1   asin               object \n",
      " 2   overall            int64  \n",
      " 3   helpful_votes      int64  \n",
      " 4   total_votes        int64  \n",
      " 5   helpfulness_ratio  float64\n",
      " 6   asin_t             int64  \n",
      "dtypes: float64(1), int64(5), object(1)\n",
      "memory usage: 246.0+ MB\n"
     ]
    }
   ],
   "source": [
    "df.info()"
   ]
  },
  {
   "cell_type": "code",
   "execution_count": 6,
   "id": "150f1106-307e-4ae5-bc40-c3e67572c53d",
   "metadata": {},
   "outputs": [],
   "source": [
    "asin_mapping = dict(zip(range(len(df['asin'].unique())), df['asin'].unique()))"
   ]
  },
  {
   "cell_type": "code",
   "execution_count": 7,
   "id": "4e76d1de-9319-412c-86df-62a0043ed4f1",
   "metadata": {},
   "outputs": [],
   "source": [
    "df = df.drop(['asin'], axis =1)"
   ]
  },
  {
   "cell_type": "code",
   "execution_count": 8,
   "id": "55bf9fe3-cbc2-479f-8184-3355018bb9e6",
   "metadata": {},
   "outputs": [],
   "source": [
    "from sklearn.model_selection import train_test_split\n",
    "def split_train_test_data(df, test_size=0.2, random_state=42):\n",
    "    \"\"\"\n",
    "    Split the dataset into train and test sets.\n",
    "    \"\"\"\n",
    "    train_data, test_data = train_test_split(df, test_size=test_size, random_state=random_state)\n",
    "    return train_data, test_data"
   ]
  },
  {
   "cell_type": "code",
   "execution_count": 9,
   "id": "f18c6eca-acac-45db-9b6b-9783409c0edd",
   "metadata": {},
   "outputs": [],
   "source": [
    "from sklearn.neighbors import NearestNeighbors\n",
    "\n",
    "def train_knn_model(train_data, k=5):\n",
    "    \"\"\"\n",
    "    Train the Nearest Neighbors model using the training data.\n",
    "    \"\"\"\n",
    "    knn_model_train = NearestNeighbors(n_neighbors=k, metric='cosine')\n",
    "    knn_model_train.fit(train_data[['reviewerID', 'asin_t', 'overall', 'helpfulness_ratio']])\n",
    "    return knn_model_train"
   ]
  },
  {
   "cell_type": "code",
   "execution_count": 10,
   "id": "f8108e16-b024-44a9-b2b3-26d2f28b1c21",
   "metadata": {},
   "outputs": [],
   "source": [
    "def recommend_for_user(user_id, train_data, test_data, knn_model_train, asin_mapping, N=10):\n",
    "    \"\"\"\n",
    "    Recommend items for the given user.\n",
    "    \"\"\"\n",
    "    if user_id in train_data['reviewerID'].unique():\n",
    "        user_ratings = test_data[test_data['reviewerID'] == user_id][['reviewerID', 'asin_t', 'overall', 'helpfulness_ratio']]\n",
    "        if len(user_ratings) > 0:\n",
    "            distances, indices = knn_model_train.kneighbors(user_ratings)\n",
    "            neighbor_ratings = train_data.iloc[indices.flatten()]\n",
    "            neighbor_ratings = neighbor_ratings[neighbor_ratings['reviewerID'] != user_id]\n",
    "            if not neighbor_ratings.empty:\n",
    "                top_n_recommendations = neighbor_ratings.groupby('asin_t')['overall'].mean().sort_values(ascending=False).head(N)\n",
    "                recommended_items_asin = top_n_recommendations.index.tolist()\n",
    "                recommended_items = [asin_mapping[encoded_asin] for encoded_asin in recommended_items_asin]\n",
    "                print(f\"Top {len(recommended_items)} recommendations for user {user_id}: {recommended_items}\")\n",
    "                return recommended_items\n",
    "            else:\n",
    "                print(\"No neighbors found for the user.\")\n",
    "        else:\n",
    "            print(\"No ratings found for the user. Recommending popular items.\")\n",
    "            popularity_recommendations = test_data['asin_t'].value_counts().index[:N].tolist()\n",
    "            recommends = [asin_mapping[encoded_asin] for encoded_asin in popularity_recommendations]\n",
    "            print(f\"Here are the top {N} most popular items: {recommends}\")\n",
    "            return recommends\n",
    "    else:\n",
    "        print(\"This is a new user.\")\n",
    "        popularity_recommendations = test_data['asin_t'].value_counts().index[:N].tolist()\n",
    "        recommends = [asin_mapping[encoded_asin] for encoded_asin in popularity_recommendations]\n",
    "        print(f\"Since you are a new user, here are the top {N} most popular items: {recommends}\")\n",
    "        return recommends\n"
   ]
  },
  {
   "cell_type": "code",
   "execution_count": 11,
   "id": "85b0ee18-ded6-47b6-8bca-0af7d01f25f2",
   "metadata": {},
   "outputs": [
    {
     "data": {
      "text/plain": [
       "'\\ndef calculate_precision_and_map(user_id, recommended_items, N, ground_truth):\\n    \"\"\"\\n    Calculate precision at N and Mean Average Precision at N.\\n    \"\"\"\\n    ground_truth = pd.DataFrame({\\'reviewerID\\': [user_id] * len(recommended_items), \\'asin\\': recommended_items})\\n    K = min(N, len(ground_truth))\\n    relevant_items_at_K = set(ground_truth[\\'asin\\'][:K])\\n    recommended_items_at_K = set(recommended_items[:K])\\n    precision_at_K = len(relevant_items_at_K.intersection(recommended_items_at_K)) / K\\n    print(f\"Precision at {K}: {precision_at_K}\")\\n\\n    relevant_indices = [i for i, item in enumerate(recommended_items) if item in relevant_items_at_K]\\n    average_precision = 0\\n    for i, index in enumerate(relevant_indices, 1):\\n        average_precision += i / (index + 1)\\n    average_precision /= len(relevant_items_at_K)\\n    print(f\"Mean Average Precision at {K}: {average_precision}\")\\n'"
      ]
     },
     "execution_count": 11,
     "metadata": {},
     "output_type": "execute_result"
    }
   ],
   "source": [
    "'''\n",
    "def calculate_precision_and_map(user_id, recommended_items, N, ground_truth):\n",
    "    \"\"\"\n",
    "    Calculate precision at N and Mean Average Precision at N.\n",
    "    \"\"\"\n",
    "    ground_truth = pd.DataFrame({'reviewerID': [user_id] * len(recommended_items), 'asin': recommended_items})\n",
    "    K = min(N, len(ground_truth))\n",
    "    relevant_items_at_K = set(ground_truth['asin'][:K])\n",
    "    recommended_items_at_K = set(recommended_items[:K])\n",
    "    precision_at_K = len(relevant_items_at_K.intersection(recommended_items_at_K)) / K\n",
    "    print(f\"Precision at {K}: {precision_at_K}\")\n",
    "\n",
    "    relevant_indices = [i for i, item in enumerate(recommended_items) if item in relevant_items_at_K]\n",
    "    average_precision = 0\n",
    "    for i, index in enumerate(relevant_indices, 1):\n",
    "        average_precision += i / (index + 1)\n",
    "    average_precision /= len(relevant_items_at_K)\n",
    "    print(f\"Mean Average Precision at {K}: {average_precision}\")\n",
    "'''"
   ]
  },
  {
   "cell_type": "code",
   "execution_count": 12,
   "id": "b8a6dbed-35c2-4cf0-af6c-2a7ab99d2f65",
   "metadata": {},
   "outputs": [
    {
     "name": "stdout",
     "output_type": "stream",
     "text": [
      "This is a new user.\n",
      "Since you are a new user, here are the top 10 most popular items: ['1608838137', 'B003EYVXV4', 'B00FZM8Z7I', 'B004NSUXHU', 'B0038M2APA', 'B001KVZ6HK', 'B0001VL0K2', 'B003WE9C5U', 'B0000AQS0F', 'B00AF6B22E']\n"
     ]
    },
    {
     "data": {
      "text/plain": [
       "'\\nif recommended_items:\\n    calculate_precision_and_map(user_id, recommended_items, 10, None)\\n'"
      ]
     },
     "execution_count": 12,
     "metadata": {},
     "output_type": "execute_result"
    }
   ],
   "source": [
    "# Usage example\n",
    "import random\n",
    "train_data, test_data = split_train_test_data(df)\n",
    "knn_model_train = train_knn_model(train_data)\n",
    "user_id = random.randint(1, 2088619)\n",
    "#user_id = int('1520337')\n",
    "recommended_items = recommend_for_user(user_id, train_data, test_data, knn_model_train, asin_mapping)\n",
    "\n",
    "'''\n",
    "if recommended_items:\n",
    "    calculate_precision_and_map(user_id, recommended_items, 10, None)\n",
    "'''"
   ]
  }
 ],
 "metadata": {
  "kernelspec": {
   "display_name": "Python 3 (ipykernel)",
   "language": "python",
   "name": "python3"
  },
  "language_info": {
   "codemirror_mode": {
    "name": "ipython",
    "version": 3
   },
   "file_extension": ".py",
   "mimetype": "text/x-python",
   "name": "python",
   "nbconvert_exporter": "python",
   "pygments_lexer": "ipython3",
   "version": "3.11.5"
  }
 },
 "nbformat": 4,
 "nbformat_minor": 5
}
